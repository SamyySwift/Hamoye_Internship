{
  "nbformat": 4,
  "nbformat_minor": 0,
  "metadata": {
    "colab": {
      "name": "Quiz solution on grid stability.ipynb",
      "provenance": [],
      "authorship_tag": "ABX9TyNsVQUVuIV9CHvSfRSq0ACL",
      "include_colab_link": true
    },
    "kernelspec": {
      "name": "python3",
      "display_name": "Python 3"
    }
  },
  "cells": [
    {
      "cell_type": "markdown",
      "metadata": {
        "id": "view-in-github",
        "colab_type": "text"
      },
      "source": [
        "<a href=\"https://colab.research.google.com/github/SamyySwift/Hamoye_Internship/blob/master/Quiz_solution_on_grid_stability.ipynb\" target=\"_parent\"><img src=\"https://colab.research.google.com/assets/colab-badge.svg\" alt=\"Open In Colab\"/></a>"
      ]
    },
    {
      "cell_type": "markdown",
      "metadata": {
        "id": "VcQZFppKZDBg",
        "colab_type": "text"
      },
      "source": [
        "#Problem Definition\n",
        "\n",
        "Electrical grids require a balance between electricity supply and demand in order to be stable. Conventional systems achieve this balance through demand-driven electricity production. For future grids with a high share of inflexible (i.e., renewable) energy source, the concept of demand response is a promising solution. This implies changes in electricity consumption in relation to electricity price changes. In this work, we’ll build a binary classification model to predict if a grid is stable or unstable using the UCI Electrical Grid Stability Simulated dataset."
      ]
    },
    {
      "cell_type": "markdown",
      "metadata": {
        "id": "xgmD-taGZlJN",
        "colab_type": "text"
      },
      "source": [
        "#Importing Libraries"
      ]
    },
    {
      "cell_type": "code",
      "metadata": {
        "id": "auZXDvyrZaAj",
        "colab_type": "code",
        "colab": {}
      },
      "source": [
        "# Importing packages for data wrangling\n",
        "import pandas as pd\n",
        "import matplotlib.pyplot as plt\n",
        "import numpy as np\n",
        "import seaborn as sns\n",
        "\n",
        "# Importing packages for Data preprocessing\n",
        "from sklearn.preprocessing import StandardScaler\n",
        "from sklearn.model_selection import train_test_split\n",
        "\n",
        "# Importing packages for modelling\n",
        "from sklearn.ensemble import ExtraTreesClassifier, RandomForestClassifier\n",
        "from xgboost import XGBClassifier\n",
        "from lightgbm import LGBMClassifier\n",
        "\n",
        "# Importing packages for model evaluation\n",
        "from sklearn.metrics import accuracy_score, classification_report, confusion_matrix, recall_score, precision_score, f1_score, roc_curve, roc_auc_score\n",
        "from sklearn.model_selection import cross_val_score"
      ],
      "execution_count": 8,
      "outputs": []
    },
    {
      "cell_type": "markdown",
      "metadata": {
        "id": "Isz4-wtfauzu",
        "colab_type": "text"
      },
      "source": [
        "###Loading the dataset via url"
      ]
    },
    {
      "cell_type": "code",
      "metadata": {
        "id": "0p9K7ZSxlMko",
        "colab_type": "code",
        "colab": {
          "base_uri": "https://localhost:8080/",
          "height": 197
        },
        "outputId": "ae86bba2-4731-4bb4-ccd2-3ac978c3a0f8"
      },
      "source": [
        "# dataset url\n",
        "url ='https://archive.ics.uci.edu/ml/machine-learning-databases/00471/Data_for_UCI_named.csv'\n",
        "# read the csv from the url\n",
        "df = pd.read_csv(url)\n",
        "# view first five rows\n",
        "df.head()"
      ],
      "execution_count": 9,
      "outputs": [
        {
          "output_type": "execute_result",
          "data": {
            "text/html": [
              "<div>\n",
              "<style scoped>\n",
              "    .dataframe tbody tr th:only-of-type {\n",
              "        vertical-align: middle;\n",
              "    }\n",
              "\n",
              "    .dataframe tbody tr th {\n",
              "        vertical-align: top;\n",
              "    }\n",
              "\n",
              "    .dataframe thead th {\n",
              "        text-align: right;\n",
              "    }\n",
              "</style>\n",
              "<table border=\"1\" class=\"dataframe\">\n",
              "  <thead>\n",
              "    <tr style=\"text-align: right;\">\n",
              "      <th></th>\n",
              "      <th>tau1</th>\n",
              "      <th>tau2</th>\n",
              "      <th>tau3</th>\n",
              "      <th>tau4</th>\n",
              "      <th>p1</th>\n",
              "      <th>p2</th>\n",
              "      <th>p3</th>\n",
              "      <th>p4</th>\n",
              "      <th>g1</th>\n",
              "      <th>g2</th>\n",
              "      <th>g3</th>\n",
              "      <th>g4</th>\n",
              "      <th>stab</th>\n",
              "      <th>stabf</th>\n",
              "    </tr>\n",
              "  </thead>\n",
              "  <tbody>\n",
              "    <tr>\n",
              "      <th>0</th>\n",
              "      <td>2.959060</td>\n",
              "      <td>3.079885</td>\n",
              "      <td>8.381025</td>\n",
              "      <td>9.780754</td>\n",
              "      <td>3.763085</td>\n",
              "      <td>-0.782604</td>\n",
              "      <td>-1.257395</td>\n",
              "      <td>-1.723086</td>\n",
              "      <td>0.650456</td>\n",
              "      <td>0.859578</td>\n",
              "      <td>0.887445</td>\n",
              "      <td>0.958034</td>\n",
              "      <td>0.055347</td>\n",
              "      <td>unstable</td>\n",
              "    </tr>\n",
              "    <tr>\n",
              "      <th>1</th>\n",
              "      <td>9.304097</td>\n",
              "      <td>4.902524</td>\n",
              "      <td>3.047541</td>\n",
              "      <td>1.369357</td>\n",
              "      <td>5.067812</td>\n",
              "      <td>-1.940058</td>\n",
              "      <td>-1.872742</td>\n",
              "      <td>-1.255012</td>\n",
              "      <td>0.413441</td>\n",
              "      <td>0.862414</td>\n",
              "      <td>0.562139</td>\n",
              "      <td>0.781760</td>\n",
              "      <td>-0.005957</td>\n",
              "      <td>stable</td>\n",
              "    </tr>\n",
              "    <tr>\n",
              "      <th>2</th>\n",
              "      <td>8.971707</td>\n",
              "      <td>8.848428</td>\n",
              "      <td>3.046479</td>\n",
              "      <td>1.214518</td>\n",
              "      <td>3.405158</td>\n",
              "      <td>-1.207456</td>\n",
              "      <td>-1.277210</td>\n",
              "      <td>-0.920492</td>\n",
              "      <td>0.163041</td>\n",
              "      <td>0.766689</td>\n",
              "      <td>0.839444</td>\n",
              "      <td>0.109853</td>\n",
              "      <td>0.003471</td>\n",
              "      <td>unstable</td>\n",
              "    </tr>\n",
              "    <tr>\n",
              "      <th>3</th>\n",
              "      <td>0.716415</td>\n",
              "      <td>7.669600</td>\n",
              "      <td>4.486641</td>\n",
              "      <td>2.340563</td>\n",
              "      <td>3.963791</td>\n",
              "      <td>-1.027473</td>\n",
              "      <td>-1.938944</td>\n",
              "      <td>-0.997374</td>\n",
              "      <td>0.446209</td>\n",
              "      <td>0.976744</td>\n",
              "      <td>0.929381</td>\n",
              "      <td>0.362718</td>\n",
              "      <td>0.028871</td>\n",
              "      <td>unstable</td>\n",
              "    </tr>\n",
              "    <tr>\n",
              "      <th>4</th>\n",
              "      <td>3.134112</td>\n",
              "      <td>7.608772</td>\n",
              "      <td>4.943759</td>\n",
              "      <td>9.857573</td>\n",
              "      <td>3.525811</td>\n",
              "      <td>-1.125531</td>\n",
              "      <td>-1.845975</td>\n",
              "      <td>-0.554305</td>\n",
              "      <td>0.797110</td>\n",
              "      <td>0.455450</td>\n",
              "      <td>0.656947</td>\n",
              "      <td>0.820923</td>\n",
              "      <td>0.049860</td>\n",
              "      <td>unstable</td>\n",
              "    </tr>\n",
              "  </tbody>\n",
              "</table>\n",
              "</div>"
            ],
            "text/plain": [
              "       tau1      tau2      tau3  ...        g4      stab     stabf\n",
              "0  2.959060  3.079885  8.381025  ...  0.958034  0.055347  unstable\n",
              "1  9.304097  4.902524  3.047541  ...  0.781760 -0.005957    stable\n",
              "2  8.971707  8.848428  3.046479  ...  0.109853  0.003471  unstable\n",
              "3  0.716415  7.669600  4.486641  ...  0.362718  0.028871  unstable\n",
              "4  3.134112  7.608772  4.943759  ...  0.820923  0.049860  unstable\n",
              "\n",
              "[5 rows x 14 columns]"
            ]
          },
          "metadata": {
            "tags": []
          },
          "execution_count": 9
        }
      ]
    },
    {
      "cell_type": "markdown",
      "metadata": {
        "id": "5o9KwIKzev2T",
        "colab_type": "text"
      },
      "source": [
        "# Data Preprocessing\n",
        "* Checking and Handling missing values.\n",
        "* Splitting data into Training and test sets\n",
        "* Feature Scaling (Standard scaling of data)"
      ]
    },
    {
      "cell_type": "code",
      "metadata": {
        "id": "CYNVVnLmeeb_",
        "colab_type": "code",
        "colab": {
          "base_uri": "https://localhost:8080/",
          "height": 283
        },
        "outputId": "4d3d86c9-9624-4758-e46b-d76365f7d605"
      },
      "source": [
        "# checking for missing values\n",
        "df.isnull().sum()"
      ],
      "execution_count": 10,
      "outputs": [
        {
          "output_type": "execute_result",
          "data": {
            "text/plain": [
              "tau1     0\n",
              "tau2     0\n",
              "tau3     0\n",
              "tau4     0\n",
              "p1       0\n",
              "p2       0\n",
              "p3       0\n",
              "p4       0\n",
              "g1       0\n",
              "g2       0\n",
              "g3       0\n",
              "g4       0\n",
              "stab     0\n",
              "stabf    0\n",
              "dtype: int64"
            ]
          },
          "metadata": {
            "tags": []
          },
          "execution_count": 10
        }
      ]
    },
    {
      "cell_type": "markdown",
      "metadata": {
        "id": "seUyXha1gIOg",
        "colab_type": "text"
      },
      "source": [
        "From above we can see that there are no missing values"
      ]
    },
    {
      "cell_type": "markdown",
      "metadata": {
        "id": "f4ajynni3lop",
        "colab_type": "text"
      },
      "source": [
        "### Segregating Training and Testing set"
      ]
    },
    {
      "cell_type": "code",
      "metadata": {
        "id": "BNWZcTGngrHh",
        "colab_type": "code",
        "colab": {}
      },
      "source": [
        "# Segregating the features and target\n",
        "features = df.drop(['stab', 'stabf'], axis = 1)\n",
        "target = df['stabf']\n",
        "\n",
        "# splitting the data to training and testing set\n",
        "x_train, x_test, y_train, y_test = train_test_split(features, target, test_size=.2, random_state=1)"
      ],
      "execution_count": 11,
      "outputs": []
    },
    {
      "cell_type": "markdown",
      "metadata": {
        "id": "WdbxbKta6BKd",
        "colab_type": "text"
      },
      "source": [
        "### Feature Scaling"
      ]
    },
    {
      "cell_type": "code",
      "metadata": {
        "id": "kkTsGerN59iT",
        "colab_type": "code",
        "colab": {}
      },
      "source": [
        "# Instantiating the Standard Scaler\n",
        "sc = StandardScaler()\n",
        "\n",
        "# fit and transform the training set\n",
        "x_train = pd.DataFrame(sc.fit_transform(x_train), columns=x_train.columns)\n",
        "\n",
        "# transfoorm the test set\n",
        "x_test = pd.DataFrame(sc.transform(x_test), columns=x_test.columns)"
      ],
      "execution_count": 12,
      "outputs": []
    },
    {
      "cell_type": "markdown",
      "metadata": {
        "id": "5S4hTCEU-mNY",
        "colab_type": "text"
      },
      "source": [
        "#Quiz Questions"
      ]
    },
    {
      "cell_type": "markdown",
      "metadata": {
        "id": "FRozZKy6C00U",
        "colab_type": "text"
      },
      "source": [
        "**Question 1**\n",
        "\n",
        "You are working on a spam classification system using regularized logistic regression. “Spam” is a positive class (y = 1) and “not spam” is the negative class (y = 0). You have trained your classifier and there are n = 2000 examples in the test set. The confusion matrix of predicted class vs. actual class is:\n",
        "\n",
        "What is the F1 score of this classifier?\n",
        "\n",
        "**Answer** 0.3177"
      ]
    },
    {
      "cell_type": "code",
      "metadata": {
        "id": "oAUSzYDXDzvX",
        "colab_type": "code",
        "colab": {
          "base_uri": "https://localhost:8080/",
          "height": 34
        },
        "outputId": "0b6168be-c873-4d47-a050-609c04ecb2e0"
      },
      "source": [
        "\"\"\"\n",
        "From the confusion matrix, we are given the following:\n",
        "TP = 355\n",
        "FP = 1480\n",
        "FN = 45\n",
        "TN = 120\n",
        "\"\"\"\n",
        "\n",
        "# precsion formula precision = TP/TP + FP \n",
        "\n",
        "precision = 355/(355 + 1480)\n",
        "\n",
        "# Calculate Recall with the formula TP/(TP + FN)\n",
        "recall = 355/(355 + 45)\n",
        "\n",
        "# compute the F1 score\n",
        "f1 = 2*(precision*recall)/(precision + recall)\n",
        "\n",
        "round(f1, 4)"
      ],
      "execution_count": 13,
      "outputs": [
        {
          "output_type": "execute_result",
          "data": {
            "text/plain": [
              "0.3177"
            ]
          },
          "metadata": {
            "tags": []
          },
          "execution_count": 13
        }
      ]
    },
    {
      "cell_type": "markdown",
      "metadata": {
        "id": "Qws8ZgumI9ws",
        "colab_type": "text"
      },
      "source": [
        "**Question 2**\n",
        "\n",
        "Which method can we use to best fit a data in Logistic Regression?\n",
        "\n",
        "**Answer** maximum Likehood"
      ]
    },
    {
      "cell_type": "markdown",
      "metadata": {
        "id": "DaJZzitjJUUN",
        "colab_type": "text"
      },
      "source": [
        "**Question 3**\n",
        "Why do we use weak learners in boosting?\n",
        "\n",
        "**Answer:** To make the algorithm stronger"
      ]
    },
    {
      "cell_type": "markdown",
      "metadata": {
        "id": "nk8VJUXRJlku",
        "colab_type": "text"
      },
      "source": [
        "**Question 4**\n",
        "\n",
        "A data scientist is evaluating different binary classification models. A false positive result is 5 times more expensive (from a business perspective) than a false negative result. The models should be evaluated based on the following criteria:\n",
        "\n",
        "1) Must have a recall rate of at least 80%\n",
        "\n",
        "2) Must have a false positive rate of 10% or less\n",
        "\n",
        "3) Must minimize business costs\n",
        "\n",
        "After creating each binary classification model, the data scientist generates the corresponding confusion matrix. Which confusion matrix represents the model that satisfies the requirements?\n",
        "\n",
        "**Answer** option B"
      ]
    },
    {
      "cell_type": "code",
      "metadata": {
        "id": "SnFyztrIbGeN",
        "colab_type": "code",
        "colab": {
          "base_uri": "https://localhost:8080/",
          "height": 318
        },
        "outputId": "28455caa-268a-4326-a71b-20dab2f9afa3"
      },
      "source": [
        "# Recall = TP / (TP + FN)\n",
        "# False Positive Rate (FPR) = FP / (FP + TN)\n",
        "# Cost = 5 * FP + FN\n",
        "\n",
        "# computing for option A\n",
        "print(f'Recall for option A is {78 / (78 + 22)}')\n",
        "print(f'False Positive Rate for option A is {9 / (9 + 91)}')\n",
        "print(f'Costs for option A is {5 * 9 + 22} \\n')\n",
        "\n",
        "# computing for option B\n",
        "print(f'Recall for option B is {82 / (82 + 18)}')\n",
        "print(f'False Positive Rate for option B is {2 / (2 + 98)}')\n",
        "print(f'Costs for option B is {5 * 2 + 18}\\n')\n",
        "\n",
        "# computing for option C\n",
        "print(f'Recall for option C is {90 / (90 + 10)}')\n",
        "print(f'False Positive Rate for option C is {4 / (4 + 96)}')\n",
        "print(f'Costs for option C is {5 * 4 + 10} \\n')\n",
        "\n",
        "# computing for option D\n",
        "print(f'Recall for option D is {79 / (79 + 21)}')\n",
        "print(f'False Positive Rate for option D is {round(1 / (1 + 91), 2)}')\n",
        "print(f'Costs for option D is {5 * 1 + 21} \\n')\n",
        "\n",
        "print('Option B meets all the requirements, hence it is the confusion metrix that represents the model')"
      ],
      "execution_count": 7,
      "outputs": [
        {
          "output_type": "stream",
          "text": [
            "Recall for option A is 0.78\n",
            "False Positive Rate for option A is 0.09\n",
            "Costs for option A is 67 \n",
            "\n",
            "Recall for option B is 0.82\n",
            "False Positive Rate for option B is 0.02\n",
            "Costs for option B is 28\n",
            "\n",
            "Recall for option C is 0.9\n",
            "False Positive Rate for option C is 0.04\n",
            "Costs for option C is 30 \n",
            "\n",
            "Recall for option D is 0.79\n",
            "False Positive Rate for option D is 0.01\n",
            "Costs for option D is 26 \n",
            "\n",
            "Option B meets all the requirements, hence it is the confusion metrix that represents the model\n"
          ],
          "name": "stdout"
        }
      ]
    },
    {
      "cell_type": "markdown",
      "metadata": {
        "id": "gguY4LSFKDH0",
        "colab_type": "text"
      },
      "source": [
        "**Question 5**\n",
        "\n",
        "You are building a classifier and the accuracy is poor on both the training and test sets. Which would you use to try to improve the performance?\n",
        "\n",
        "**Answer** Bagging\n",
        "\n",
        "\n",
        "\n",
        "\n"
      ]
    },
    {
      "cell_type": "markdown",
      "metadata": {
        "id": "j6a2U3ngKcF0",
        "colab_type": "text"
      },
      "source": [
        "**Question 6**\n",
        "Which of the following is not an Ensemble model?\n",
        "\n",
        "**Answer** DecisionTree"
      ]
    },
    {
      "cell_type": "markdown",
      "metadata": {
        "id": "hx4dD2Z5Kp1l",
        "colab_type": "text"
      },
      "source": [
        "**Question 7**\n",
        "A classifier predicts if insurance claims are fraudulent or not. The cost of paying a fraudulent claim is higher than the cost of investigating a claim that is suspected to be fraudulent. Which metric should we use to evaluate this classifier?\n",
        "\n",
        "**Answer** Recall"
      ]
    },
    {
      "cell_type": "markdown",
      "metadata": {
        "id": "K4x3FCblK5Hw",
        "colab_type": "text"
      },
      "source": [
        "**Question 8**\n",
        "The ROC curve above was generated from a classification algorithm. What can we say about this classifier?\n",
        "\n",
        "**Answer** The model has no descrimination capacity to distinguish between the postive and negative class."
      ]
    },
    {
      "cell_type": "markdown",
      "metadata": {
        "id": "HgL67TNfLdmq",
        "colab_type": "text"
      },
      "source": [
        "**Question 9**\n",
        "\n",
        "A random forest classifier was used to classify handwritten digits 0-9 into the numbers they were intended to represent. The confusion matrix below was generated from the results. Based on the matrix, which number was predicted with the least accuracy?\n",
        "\n",
        "**Answer** : 8"
      ]
    },
    {
      "cell_type": "markdown",
      "metadata": {
        "id": "WC_i2JrFL04Z",
        "colab_type": "text"
      },
      "source": [
        "**Question 10**\n",
        "\n",
        "A medical company is building a model to predict the occurrence of thyroid cancer. The training data contains 900 negative instances (people who don't have cancer) and 100 positive instances. The resulting model has 90% accuracy, but extremely poor recall. What steps can be used to improve the model's performance? (SELECT TWO OPTIONS)\n",
        "\n",
        "**Answer:**\n",
        "* Use bagging method\n",
        "* Generate more samples/data using SMOTE"
      ]
    },
    {
      "cell_type": "markdown",
      "metadata": {
        "id": "vPxBhj36MJHI",
        "colab_type": "text"
      },
      "source": [
        "**Question 11**\n",
        "You are developing a machine learning classification algorithm that categorizes handwritten digits 0-9 into the numbers they represent. How should you pre-process the label data?\n",
        "\n",
        "**Answer** OneHotEncoding\n",
        "\n"
      ]
    },
    {
      "cell_type": "markdown",
      "metadata": {
        "id": "cbiOyolUM1Ds",
        "colab_type": "text"
      },
      "source": [
        "**Question 12**\n",
        "What is the entropy of the target variable if its actual values are given as:\n",
        "\n",
        "[1,0,1,1,0,1,0]\n",
        "\n",
        "**Answer** Fromula for calculaying entropy is -Ep(x) *logp(x) hence the answer is -3/7log(3/7) - 4/7log(4/7)"
      ]
    },
    {
      "cell_type": "markdown",
      "metadata": {
        "id": "MLN-mk9FNW_R",
        "colab_type": "text"
      },
      "source": [
        "**Question 13**\n",
        "\n",
        "Which of this is not a good metric for evaluating classification algorithms for data with imbalanced class problems?\n",
        "\n",
        "**Answer** Accuracy"
      ]
    },
    {
      "cell_type": "markdown",
      "metadata": {
        "id": "6CsKIGj_NW0a",
        "colab_type": "text"
      },
      "source": [
        "**Question 14**\n",
        "\n",
        "What is the accuracy on the test set using the random forest classifier? In 4 decimal places.\n",
        "\n",
        "**Answer** As shown in the calculations below, the answer is 0.929"
      ]
    },
    {
      "cell_type": "code",
      "metadata": {
        "id": "ACFKA_B1OFC4",
        "colab_type": "code",
        "colab": {
          "base_uri": "https://localhost:8080/",
          "height": 34
        },
        "outputId": "bc41e623-7ea5-4495-d03e-9919ccde32c5"
      },
      "source": [
        "# instantiate the RandomForestClassifier with random_state of 1\n",
        "forest_clf = RandomForestClassifier(random_state=1)\n",
        "\n",
        "# Fit the classifier with training set\n",
        "forest_clf.fit(x_train, y_train)\n",
        "\n",
        "# make predictions\n",
        "forest_pred = forest_clf.predict(x_test)\n",
        "\n",
        "\n",
        "# compute the accuracy score\n",
        "acc_score = round(accuracy_score(y_test, forest_pred), 4)\n",
        "print(f'Accuracy score of the RandomForestClassifier is {acc_score}')"
      ],
      "execution_count": 14,
      "outputs": [
        {
          "output_type": "stream",
          "text": [
            "Accuracy score of the RandomForestClassifier is 0.929\n"
          ],
          "name": "stdout"
        }
      ]
    },
    {
      "cell_type": "markdown",
      "metadata": {
        "id": "vAPpiLLTQXYi",
        "colab_type": "text"
      },
      "source": [
        "**Question 15**\n",
        "\n",
        "What is the accuracy on the test set using the xgboost classifier? In 4 decimal places.\n",
        "\n",
        "**Answer** As shown in the calculations below, the answer is 0.9195"
      ]
    },
    {
      "cell_type": "code",
      "metadata": {
        "id": "Bze2GP3nQTQE",
        "colab_type": "code",
        "colab": {
          "base_uri": "https://localhost:8080/",
          "height": 34
        },
        "outputId": "a303fb52-1f20-4d12-fd39-e73f608b6554"
      },
      "source": [
        "# instantiate the XGBClassifier with random_state of 1\n",
        "xgb_clf = XGBClassifier(random_state=1)\n",
        "\n",
        "# Fit the classifier with training set\n",
        "xgb_clf.fit(x_train, y_train)\n",
        "\n",
        "# make predictions\n",
        "xgb_pred = xgb_clf.predict(x_test)\n",
        "\n",
        "# compute the accuracy score\n",
        "acc_score = round(accuracy_score(y_test, xgb_pred), 4)\n",
        "print(f'Accuracy score of the XGBClassifier is {acc_score}')"
      ],
      "execution_count": 15,
      "outputs": [
        {
          "output_type": "stream",
          "text": [
            "Accuracy score of the XGBClassifier is 0.9195\n"
          ],
          "name": "stdout"
        }
      ]
    },
    {
      "cell_type": "markdown",
      "metadata": {
        "id": "3fivchXeRFOq",
        "colab_type": "text"
      },
      "source": [
        "**Question 16**\n",
        "\n",
        "What is the accuracy on the test set using the LGBM classifier? In 4 decimal places.\n",
        "\n",
        "**Answer** from the calculations below, the acuuracy score is 0.9375"
      ]
    },
    {
      "cell_type": "code",
      "metadata": {
        "id": "oZew990sRZIp",
        "colab_type": "code",
        "colab": {
          "base_uri": "https://localhost:8080/",
          "height": 34
        },
        "outputId": "39d93b3a-a50d-4648-9eb9-fb3e2cbeba64"
      },
      "source": [
        "# instantiate the LGBMClassifier with random_state of 1\n",
        "lgbm_clf = LGBMClassifier(random_state=1)\n",
        "\n",
        "# Fit the classifier with training set\n",
        "lgbm_clf.fit(x_train, y_train)\n",
        "\n",
        "# make predictions\n",
        "lgbm_pred = lgbm_clf.predict(x_test)\n",
        "\n",
        "# compute the accuracy score\n",
        "acc_score = round(accuracy_score(y_test, lgbm_pred), 4)\n",
        "print(f'Accuracy score of the LGBMclassifier is {acc_score}')"
      ],
      "execution_count": 16,
      "outputs": [
        {
          "output_type": "stream",
          "text": [
            "Accuracy score of the LGBMclassifier is 0.9375\n"
          ],
          "name": "stdout"
        }
      ]
    },
    {
      "cell_type": "markdown",
      "metadata": {
        "id": "11ju9HxxRwXY",
        "colab_type": "text"
      },
      "source": [
        "**Question 17**\n",
        "\n",
        "To improve the Extra Trees Classifier, you will use the following parameters (number of estimators, minimum number of samples, minimum number of samples for leaf node and the number of features to consider when looking for the best split) for the hyperparameter grid needed to run a Randomized Cross Validation Search (RandomizedSearchCV). \n",
        "\n",
        "n_estimators = [50, 100, 300, 500, 1000]\n",
        "\n",
        "min_samples_split = [2, 3, 5, 7, 9]\n",
        "\n",
        "min_samples_leaf = [1, 2, 4, 6, 8]\n",
        "\n",
        "max_features = ['auto', 'sqrt', 'log2', None] \n",
        "\n",
        "hyperparameter_grid = {'n_estimators': n_estimators,\n",
        "\n",
        "                       'min_samples_leaf': min_samples_leaf,\n",
        "\n",
        "                       'min_samples_split': min_samples_split,\n",
        "\n",
        "                       'max_features': max_features}\n",
        "\n",
        "Using the ExtraTreesClassifier as your estimator with cv=5, n_iter=10, scoring = 'accuracy', n_jobs = -1, verbose = 1 and random_state = 1. What are the best hyperparameters from the randomized search CV?\n",
        "\n",
        "**Answer** As shown in the ccomputations below, the answer is option B"
      ]
    },
    {
      "cell_type": "code",
      "metadata": {
        "id": "2JNgVK1U-SRK",
        "colab_type": "code",
        "colab": {
          "base_uri": "https://localhost:8080/",
          "height": 550
        },
        "outputId": "c6102ba3-4715-48cc-9fa1-5e731ae5064c"
      },
      "source": [
        "from sklearn.model_selection import RandomizedSearchCV\n",
        "\n",
        "n_estimators = [50, 100, 300, 500, 1000]\n",
        "\n",
        "min_samples_split = [2, 3, 5, 7, 9]\n",
        "\n",
        "min_samples_leaf = [1, 2, 4, 6, 8]\n",
        "\n",
        "max_features = ['auto', 'sqrt', 'log2', None] \n",
        "\n",
        "# Define the param grid\n",
        "hyperparameter_grid = {'n_estimators': n_estimators,\n",
        "\n",
        "                       'min_samples_leaf': min_samples_leaf,\n",
        "\n",
        "                       'min_samples_split': min_samples_split,\n",
        "\n",
        "                       'max_features': max_features}\n",
        "\n",
        "# Instantiate the ExtratreClassifer\n",
        "ext_clf = ExtraTreesClassifier(random_state=1)\n",
        "\n",
        "# instantiate the gridsearch\n",
        "randomised_grid_search = RandomizedSearchCV(ext_clf, param_distributions= hyperparameter_grid,\n",
        "                                scoring='accuracy',\n",
        "                                n_iter=10,\n",
        "                                cv=5,\n",
        "                                n_jobs=-1,\n",
        "                                verbose=1)\n",
        "\n",
        "# fit the grid with training set\n",
        "randomised_grid_search.fit(x_train, y_train)"
      ],
      "execution_count": 21,
      "outputs": [
        {
          "output_type": "stream",
          "text": [
            "Fitting 5 folds for each of 10 candidates, totalling 50 fits\n"
          ],
          "name": "stdout"
        },
        {
          "output_type": "stream",
          "text": [
            "[Parallel(n_jobs=-1)]: Using backend LokyBackend with 2 concurrent workers.\n",
            "[Parallel(n_jobs=-1)]: Done  46 tasks      | elapsed:  1.5min\n",
            "[Parallel(n_jobs=-1)]: Done  50 out of  50 | elapsed:  1.6min finished\n"
          ],
          "name": "stderr"
        },
        {
          "output_type": "execute_result",
          "data": {
            "text/plain": [
              "RandomizedSearchCV(cv=5, error_score=nan,\n",
              "                   estimator=ExtraTreesClassifier(bootstrap=False,\n",
              "                                                  ccp_alpha=0.0,\n",
              "                                                  class_weight=None,\n",
              "                                                  criterion='gini',\n",
              "                                                  max_depth=None,\n",
              "                                                  max_features='auto',\n",
              "                                                  max_leaf_nodes=None,\n",
              "                                                  max_samples=None,\n",
              "                                                  min_impurity_decrease=0.0,\n",
              "                                                  min_impurity_split=None,\n",
              "                                                  min_samples_leaf=1,\n",
              "                                                  min_samples_split=2,\n",
              "                                                  min_weight_fraction_leaf=0.0,\n",
              "                                                  n_estimators=100, n_jobs=...\n",
              "                                                  random_state=1, verbose=0,\n",
              "                                                  warm_start=False),\n",
              "                   iid='deprecated', n_iter=10, n_jobs=-1,\n",
              "                   param_distributions={'max_features': ['auto', 'sqrt', 'log2',\n",
              "                                                         None],\n",
              "                                        'min_samples_leaf': [1, 2, 4, 6, 8],\n",
              "                                        'min_samples_split': [2, 3, 5, 7, 9],\n",
              "                                        'n_estimators': [50, 100, 300, 500,\n",
              "                                                         1000]},\n",
              "                   pre_dispatch='2*n_jobs', random_state=None, refit=True,\n",
              "                   return_train_score=False, scoring='accuracy', verbose=1)"
            ]
          },
          "metadata": {
            "tags": []
          },
          "execution_count": 21
        }
      ]
    },
    {
      "cell_type": "code",
      "metadata": {
        "id": "KopTi7OYNK8J",
        "colab_type": "code",
        "colab": {
          "base_uri": "https://localhost:8080/",
          "height": 87
        },
        "outputId": "e230f823-7a80-4a77-cb00-a55085697aa9"
      },
      "source": [
        "# Get the best hyperparameters\n",
        "randomised_grid_search.best_params_"
      ],
      "execution_count": 22,
      "outputs": [
        {
          "output_type": "execute_result",
          "data": {
            "text/plain": [
              "{'max_features': 'auto',\n",
              " 'min_samples_leaf': 1,\n",
              " 'min_samples_split': 3,\n",
              " 'n_estimators': 300}"
            ]
          },
          "metadata": {
            "tags": []
          },
          "execution_count": 22
        }
      ]
    },
    {
      "cell_type": "markdown",
      "metadata": {
        "id": "LRPSBRnKTKd6",
        "colab_type": "text"
      },
      "source": [
        "**Question 18**\n",
        "\n",
        "Train a new ExtraTreesClassifier Model with the new Hyperparameters from the RandomizedSearchCV (with random_state = 1). Is the accuracy of the new optimal model higher or lower than the initial ExtraTreesClassifier model with no hyperparameter tuning?\n",
        "\n",
        "**Answer** After training a new extratree classifier with the new hperparameters, the accuracy score increased as shown below, hence the answer is HIGHER."
      ]
    },
    {
      "cell_type": "code",
      "metadata": {
        "id": "2revFIGU7KMt",
        "colab_type": "code",
        "colab": {
          "base_uri": "https://localhost:8080/",
          "height": 52
        },
        "outputId": "debcdd31-c326-488f-a793-2acc95f0eb9c"
      },
      "source": [
        "\n",
        "# Compute the old accuracy\n",
        "ext_clf.fit(x_train, y_train)\n",
        "\n",
        "old_acc_score = round(accuracy_score(y_test, ext_clf.predict(x_test)), 4)\n",
        "print(f'old accuracy score is {old_acc_score}')\n",
        "\n",
        "\n",
        "# Get the model with new hyperparameters from the randomsearchcv\n",
        "new_model = randomised_grid_search.best_estimator_\n",
        "\n",
        "# Train a new ExtraTree model with new hyparameters\n",
        "new_model.fit(x_train, y_train)\n",
        "\n",
        "# make new predictions\n",
        "new_pred = new_model.predict(x_test)\n",
        "\n",
        "# Compute new accuracy score\n",
        "print(f'New Accuracy score is {round(accuracy_score(y_test, new_pred), 4)}')\n"
      ],
      "execution_count": 20,
      "outputs": [
        {
          "output_type": "stream",
          "text": [
            "old accuracy score is 0.928\n",
            "New Accuracy score is 0.9335\n"
          ],
          "name": "stdout"
        }
      ]
    },
    {
      "cell_type": "markdown",
      "metadata": {
        "id": "L2XM5tAMYN7j",
        "colab_type": "text"
      },
      "source": [
        "**Question 19**\n",
        "\n",
        "What other hyperparameter optimization methods can you try apart from Random Search?\n",
        "\n",
        "**Answer** GridSearch"
      ]
    },
    {
      "cell_type": "markdown",
      "metadata": {
        "id": "HKa54L7TY9NM",
        "colab_type": "text"
      },
      "source": [
        "**Question 20**\n",
        "\n",
        "Find the feature importance using the optimal ExtraTreesClassifier model. Which features are the most and least important respectively?.\n",
        "\n",
        "**Answer** As shown from the plot below, the answer is tau2 and p1"
      ]
    },
    {
      "cell_type": "code",
      "metadata": {
        "id": "4sid_B6985Sb",
        "colab_type": "code",
        "colab": {
          "base_uri": "https://localhost:8080/",
          "height": 512
        },
        "outputId": "0fdfbc9f-6874-4996-dc23-34d3b1b77834"
      },
      "source": [
        "feature_importances = new_model.feature_importances_\n",
        "indices = np.argsort(feature_importances)[::-1]\n",
        "names = [x_train.columns[i] for i in indices]\n",
        "# Create plot\n",
        "plt.figure(figsize=(10, 8))\n",
        "\n",
        "# Create plot title\n",
        "plt.title(\"Feature Importance\")\n",
        "\n",
        "# Add bars\n",
        "plt.bar(range(x_train.shape[1]), feature_importances[indices])\n",
        "\n",
        "# Add feature names as x-axis labels\n",
        "plt.xticks(range(x_train.shape[1]), names, rotation=90)\n",
        "\n",
        "# Show plot\n",
        "plt.show()"
      ],
      "execution_count": null,
      "outputs": [
        {
          "output_type": "display_data",
          "data": {
            "image/png": "[encoded data removed]",
            "text/plain": [
              "<Figure size 720x576 with 1 Axes>"
            ]
          },
          "metadata": {
            "tags": [],
            "needs_background": "light"
          }
        }
      ]
    }
  ]
}